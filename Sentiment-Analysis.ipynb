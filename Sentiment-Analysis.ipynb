{
 "cells": [
  {
   "cell_type": "markdown",
   "metadata": {},
   "source": [
    "<h1 style=\"color:green;text-align:center\">Sentiment Analysis Task</h1>"
   ]
  },
  {
   "cell_type": "markdown",
   "metadata": {},
   "source": [
    "<h1 style=\"color:red\">Data preprosessing</h1>"
   ]
  },
  {
   "cell_type": "code",
   "execution_count": 2,
   "metadata": {},
   "outputs": [
    {
     "name": "stderr",
     "output_type": "stream",
     "text": [
      "/home/mohamed/anaconda3/envs/NLTK/lib/python3.6/site-packages/h5py/__init__.py:36: FutureWarning: Conversion of the second argument of issubdtype from `float` to `np.floating` is deprecated. In future, it will be treated as `np.float64 == np.dtype(float).type`.\n",
      "  from ._conv import register_converters as _register_converters\n",
      "Using TensorFlow backend.\n"
     ]
    }
   ],
   "source": [
    "import numpy as np\n",
    "from nltk.corpus import stopwords\n",
    "from string import punctuation\n",
    "from sklearn.decomposition import PCA\n",
    "from keras.preprocessing.sequence import pad_sequences"
   ]
  },
  {
   "cell_type": "code",
   "execution_count": 4,
   "metadata": {
    "collapsed": true
   },
   "outputs": [],
   "source": [
    "with open(\"TrainData.txt\", \"r\") as f:\n",
    "    train_reviews = f.read()  \n",
    "    \n",
    "with open(\"TrainDataLabel.txt\", \"r\") as f:\n",
    "    train_labels = f.read()\n",
    "    \n",
    "with open(\"TestData.txt\") as f:\n",
    "    test_reviews = f.read()\n",
    "    \n",
    "with open(\"TestDataLabel.txt\") as f:\n",
    "    test_labels = f.read()    "
   ]
  },
  {
   "cell_type": "markdown",
   "metadata": {},
   "source": [
    "### delete punctuations from the corpus"
   ]
  },
  {
   "cell_type": "code",
   "execution_count": 5,
   "metadata": {
    "collapsed": true
   },
   "outputs": [],
   "source": [
    "train_words = '' .join([c for c in train_reviews if c not in punctuation])\n",
    "train_reviews = train_words.split(\"\\n\")\n",
    "train_labels = train_labels.splitlines()\n",
    "\n",
    "# max length of features\n",
    "max_len = 40"
   ]
  },
  {
   "cell_type": "code",
   "execution_count": 6,
   "metadata": {
    "collapsed": true
   },
   "outputs": [],
   "source": [
    "test_words = '' .join([c for c in test_reviews if c not in punctuation])\n",
    "test_reviews = test_words.split(\"\\n\")\n",
    "test_labels = test_labels.splitlines()"
   ]
  },
  {
   "cell_type": "markdown",
   "metadata": {},
   "source": [
    "** number of reviews and labels **"
   ]
  },
  {
   "cell_type": "code",
   "execution_count": 7,
   "metadata": {},
   "outputs": [
    {
     "name": "stdout",
     "output_type": "stream",
     "text": [
      "4971\n",
      "4970\n"
     ]
    }
   ],
   "source": [
    "print(len(train_reviews))\n",
    "print(len(train_labels))"
   ]
  },
  {
   "cell_type": "code",
   "execution_count": 8,
   "metadata": {},
   "outputs": [
    {
     "name": "stdout",
     "output_type": "stream",
     "text": [
      "2311\n",
      "2310\n"
     ]
    }
   ],
   "source": [
    "print(len(test_reviews))\n",
    "print(len(test_labels))"
   ]
  },
  {
   "cell_type": "code",
   "execution_count": 9,
   "metadata": {},
   "outputs": [
    {
     "name": "stdout",
     "output_type": "stream",
     "text": [
      "{'joy', 'sadness', 'disgust', 'anger', 'fear', 'shame', 'guilt'}\n"
     ]
    }
   ],
   "source": [
    "unique_labels = set(train_labels)\n",
    "print(unique_labels)"
   ]
  },
  {
   "cell_type": "code",
   "execution_count": 10,
   "metadata": {
    "collapsed": true
   },
   "outputs": [],
   "source": [
    "labels_dict = {label : i for i, label in enumerate(unique_labels)}"
   ]
  },
  {
   "cell_type": "code",
   "execution_count": 11,
   "metadata": {},
   "outputs": [
    {
     "name": "stdout",
     "output_type": "stream",
     "text": [
      "{'joy': 0, 'sadness': 1, 'disgust': 2, 'anger': 3, 'fear': 4, 'shame': 5, 'guilt': 6}\n"
     ]
    }
   ],
   "source": [
    "print(labels_dict)"
   ]
  },
  {
   "cell_type": "code",
   "execution_count": 12,
   "metadata": {
    "collapsed": true
   },
   "outputs": [],
   "source": [
    "# prepare train labels\n",
    "b_train_labels = [labels_dict[label] for label in train_labels]\n",
    "# prepare test labels\n",
    "b_test_labels = [labels_dict[label] for label in test_labels]"
   ]
  },
  {
   "cell_type": "code",
   "execution_count": 13,
   "metadata": {
    "collapsed": true
   },
   "outputs": [],
   "source": [
    "# insert another label \n",
    "b_train_labels.append(0)\n",
    "b_test_labels.append(0)"
   ]
  },
  {
   "cell_type": "code",
   "execution_count": 14,
   "metadata": {},
   "outputs": [
    {
     "name": "stdout",
     "output_type": "stream",
     "text": [
      "4971\n",
      "2311\n"
     ]
    }
   ],
   "source": [
    "print(len(b_train_labels))\n",
    "print(len(b_test_labels))"
   ]
  },
  {
   "cell_type": "markdown",
   "metadata": {},
   "source": [
    "### convert labels to one hot vectors"
   ]
  },
  {
   "cell_type": "code",
   "execution_count": 15,
   "metadata": {
    "collapsed": true
   },
   "outputs": [],
   "source": [
    "from keras.utils.np_utils import to_categorical\n",
    "\n",
    "y_train = to_categorical(b_train_labels, 7)\n",
    "y_test = to_categorical(b_test_labels, 7)"
   ]
  },
  {
   "cell_type": "markdown",
   "metadata": {},
   "source": [
    "-------------"
   ]
  },
  {
   "cell_type": "markdown",
   "metadata": {},
   "source": [
    "<h1 style=\"color:red\">Feature Extraction</h1>"
   ]
  },
  {
   "cell_type": "code",
   "execution_count": 16,
   "metadata": {
    "collapsed": true
   },
   "outputs": [],
   "source": [
    "train_sentences = [[word for word in review.split()[:max_len]] for review in train_reviews]\n",
    "test_sentences = [[word for word in review.split()[:max_len]] for review in test_reviews]"
   ]
  },
  {
   "cell_type": "code",
   "execution_count": 17,
   "metadata": {
    "collapsed": true
   },
   "outputs": [],
   "source": [
    "from keras.preprocessing.text import Tokenizer\n",
    "from keras.preprocessing.sequence import pad_sequences\n",
    "\n",
    "# train tokenizer\n",
    "train_tk = Tokenizer()\n",
    "train_tk.fit_on_texts(train_sentences)\n",
    "train_matrix = train_tk.texts_to_matrix(train_sentences)\n",
    "\n",
    "# test tokenizer\n",
    "test_tk = Tokenizer()\n",
    "test_tk.fit_on_texts(test_sentences)\n",
    "test_matrix = test_tk.texts_to_matrix(test_sentences)"
   ]
  },
  {
   "cell_type": "code",
   "execution_count": 18,
   "metadata": {
    "collapsed": true
   },
   "outputs": [],
   "source": [
    "# pad train sequence\n",
    "train_data = pad_sequences(train_matrix, maxlen=max_len, padding=\"pre\", truncating=\"post\")\n",
    "# pad test sequence\n",
    "test_data = pad_sequences(test_matrix, maxlen=max_len, padding=\"pre\", truncating=\"post\")"
   ]
  },
  {
   "cell_type": "code",
   "execution_count": 19,
   "metadata": {},
   "outputs": [
    {
     "name": "stdout",
     "output_type": "stream",
     "text": [
      "[[0 1 1 ... 0 0 0]\n",
      " [0 1 0 ... 0 0 0]\n",
      " [0 0 1 ... 0 0 0]\n",
      " ...\n",
      " [0 1 0 ... 0 0 0]\n",
      " [0 1 1 ... 0 0 0]\n",
      " [0 0 0 ... 0 0 0]]\n"
     ]
    }
   ],
   "source": [
    "print(train_data)"
   ]
  },
  {
   "cell_type": "markdown",
   "metadata": {},
   "source": [
    "------------------"
   ]
  },
  {
   "cell_type": "markdown",
   "metadata": {},
   "source": [
    "# <font color=\"red\">LSTM </font>"
   ]
  },
  {
   "cell_type": "code",
   "execution_count": 149,
   "metadata": {
    "collapsed": true
   },
   "outputs": [],
   "source": [
    "vocab_size = len(train_tk.word_index)\n",
    "embedding_dim = 100\n",
    "lstm_size = 256"
   ]
  },
  {
   "cell_type": "code",
   "execution_count": 150,
   "metadata": {
    "collapsed": true
   },
   "outputs": [],
   "source": [
    "from keras.models import Sequential\n",
    "from keras.layers import Dense, Activation, Embedding\n",
    "from keras.layers.recurrent import LSTM\n",
    "\n",
    "# keras model\n",
    "model = Sequential()\n",
    "model.add(Embedding(vocab_size, embedding_dim))\n",
    "model.add(LSTM(units=lstm_size, return_sequences=True))\n",
    "model.add(LSTM(units=lstm_size, return_sequences=False))\n",
    "model.add(Dense(7,activation='softmax'))"
   ]
  },
  {
   "cell_type": "code",
   "execution_count": 151,
   "metadata": {},
   "outputs": [
    {
     "name": "stdout",
     "output_type": "stream",
     "text": [
      "_________________________________________________________________\n",
      "Layer (type)                 Output Shape              Param #   \n",
      "=================================================================\n",
      "embedding_7 (Embedding)      (None, None, 100)         785300    \n",
      "_________________________________________________________________\n",
      "lstm_13 (LSTM)               (None, None, 256)         365568    \n",
      "_________________________________________________________________\n",
      "lstm_14 (LSTM)               (None, 256)               525312    \n",
      "_________________________________________________________________\n",
      "dense_29 (Dense)             (None, 7)                 1799      \n",
      "=================================================================\n",
      "Total params: 1,677,979\n",
      "Trainable params: 1,677,979\n",
      "Non-trainable params: 0\n",
      "_________________________________________________________________\n",
      "None\n"
     ]
    }
   ],
   "source": [
    "model.compile(loss = 'categorical_crossentropy', optimizer='adam', metrics = ['accuracy'])\n",
    "print(model.summary())"
   ]
  },
  {
   "cell_type": "code",
   "execution_count": 169,
   "metadata": {
    "scrolled": true
   },
   "outputs": [
    {
     "name": "stdout",
     "output_type": "stream",
     "text": [
      "Train on 4473 samples, validate on 498 samples\n",
      "Epoch 1/70\n",
      "4473/4473 [==============================] - 41s 9ms/step - loss: 1.9027 - acc: 0.1625 - val_loss: 3.2192 - val_acc: 0.0000e+00\n",
      "Epoch 2/70\n",
      "4473/4473 [==============================] - 42s 9ms/step - loss: 1.8999 - acc: 0.1688 - val_loss: 2.9899 - val_acc: 0.0000e+00\n",
      "Epoch 3/70\n",
      "4473/4473 [==============================] - 40s 9ms/step - loss: 1.8964 - acc: 0.1784 - val_loss: 2.7272 - val_acc: 0.0000e+00\n",
      "Epoch 4/70\n",
      "4473/4473 [==============================] - 42s 9ms/step - loss: 1.8938 - acc: 0.1820 - val_loss: 2.8814 - val_acc: 0.0000e+00\n",
      "Epoch 5/70\n",
      "4473/4473 [==============================] - 54s 12ms/step - loss: 1.8929 - acc: 0.1768 - val_loss: 2.7686 - val_acc: 0.0000e+00\n",
      "Epoch 6/70\n",
      "4473/4473 [==============================] - 46s 10ms/step - loss: 1.8901 - acc: 0.1835 - val_loss: 2.9505 - val_acc: 0.0000e+00\n",
      "Epoch 7/70\n",
      "4473/4473 [==============================] - 46s 10ms/step - loss: 1.8883 - acc: 0.1876 - val_loss: 3.1598 - val_acc: 0.0000e+00\n",
      "Epoch 8/70\n",
      "4473/4473 [==============================] - 47s 11ms/step - loss: 1.8859 - acc: 0.1894 - val_loss: 3.1668 - val_acc: 0.0000e+00\n",
      "Epoch 9/70\n",
      "4473/4473 [==============================] - 52s 12ms/step - loss: 1.8847 - acc: 0.1990 - val_loss: 2.9907 - val_acc: 0.0000e+00\n",
      "Epoch 10/70\n",
      "4473/4473 [==============================] - 50s 11ms/step - loss: 1.8800 - acc: 0.1992 - val_loss: 3.0032 - val_acc: 0.0000e+00\n",
      "Epoch 11/70\n",
      "4473/4473 [==============================] - 48s 11ms/step - loss: 1.8789 - acc: 0.1970 - val_loss: 3.1182 - val_acc: 0.0000e+00\n",
      "Epoch 12/70\n",
      "4473/4473 [==============================] - 49s 11ms/step - loss: 1.8780 - acc: 0.2014 - val_loss: 3.0654 - val_acc: 0.0000e+00\n",
      "Epoch 13/70\n",
      "4473/4473 [==============================] - 46s 10ms/step - loss: 1.8743 - acc: 0.2025 - val_loss: 2.9655 - val_acc: 0.0000e+00\n",
      "Epoch 14/70\n",
      "4473/4473 [==============================] - 48s 11ms/step - loss: 1.8719 - acc: 0.2077 - val_loss: 3.1583 - val_acc: 0.0000e+00\n",
      "Epoch 15/70\n",
      "4473/4473 [==============================] - 49s 11ms/step - loss: 1.8702 - acc: 0.2075 - val_loss: 3.1599 - val_acc: 0.0000e+00\n",
      "Epoch 16/70\n",
      "4473/4473 [==============================] - 50s 11ms/step - loss: 1.8667 - acc: 0.2119 - val_loss: 3.0550 - val_acc: 0.0000e+00\n",
      "Epoch 17/70\n",
      "4473/4473 [==============================] - 53s 12ms/step - loss: 1.8640 - acc: 0.2012 - val_loss: 2.9849 - val_acc: 0.0000e+00\n",
      "Epoch 18/70\n",
      "4473/4473 [==============================] - 51s 11ms/step - loss: 1.8609 - acc: 0.2088 - val_loss: 3.2623 - val_acc: 0.0000e+00\n",
      "Epoch 19/70\n",
      "4473/4473 [==============================] - 48s 11ms/step - loss: 1.8574 - acc: 0.2175 - val_loss: 3.1867 - val_acc: 0.0000e+00\n",
      "Epoch 20/70\n",
      "4473/4473 [==============================] - 50s 11ms/step - loss: 1.8513 - acc: 0.2155 - val_loss: 3.2066 - val_acc: 0.0000e+00\n",
      "Epoch 21/70\n",
      "4473/4473 [==============================] - 52s 12ms/step - loss: 1.8450 - acc: 0.2093 - val_loss: 3.1339 - val_acc: 0.0000e+00\n",
      "Epoch 22/70\n",
      "4473/4473 [==============================] - 50s 11ms/step - loss: 1.8373 - acc: 0.2189 - val_loss: 3.1221 - val_acc: 0.0020\n",
      "Epoch 23/70\n",
      "4473/4473 [==============================] - 57s 13ms/step - loss: 1.8239 - acc: 0.2376 - val_loss: 3.1193 - val_acc: 0.0040\n",
      "Epoch 24/70\n",
      "4473/4473 [==============================] - 51s 11ms/step - loss: 1.8121 - acc: 0.2497 - val_loss: 3.2410 - val_acc: 0.0141\n",
      "Epoch 25/70\n",
      "4473/4473 [==============================] - 54s 12ms/step - loss: 1.7964 - acc: 0.2452 - val_loss: 3.2411 - val_acc: 0.0100\n",
      "Epoch 26/70\n",
      "4473/4473 [==============================] - 50s 11ms/step - loss: 1.7815 - acc: 0.2620 - val_loss: 3.2101 - val_acc: 0.0100\n",
      "Epoch 27/70\n",
      "4473/4473 [==============================] - 48s 11ms/step - loss: 1.7614 - acc: 0.2752 - val_loss: 3.1054 - val_acc: 0.0261\n",
      "Epoch 28/70\n",
      "4473/4473 [==============================] - 53s 12ms/step - loss: 1.7388 - acc: 0.2886 - val_loss: 3.2295 - val_acc: 0.0201\n",
      "Epoch 29/70\n",
      "4473/4473 [==============================] - 48s 11ms/step - loss: 1.7189 - acc: 0.2969 - val_loss: 3.2886 - val_acc: 0.0301\n",
      "Epoch 30/70\n",
      "4473/4473 [==============================] - 49s 11ms/step - loss: 1.7032 - acc: 0.2971 - val_loss: 3.1658 - val_acc: 0.0422\n",
      "Epoch 31/70\n",
      "4473/4473 [==============================] - 49s 11ms/step - loss: 1.6581 - acc: 0.3235 - val_loss: 3.2836 - val_acc: 0.0201\n",
      "Epoch 32/70\n",
      "4473/4473 [==============================] - 49s 11ms/step - loss: 1.6255 - acc: 0.3432 - val_loss: 3.3996 - val_acc: 0.0321\n",
      "Epoch 33/70\n",
      "4473/4473 [==============================] - 49s 11ms/step - loss: 1.6057 - acc: 0.3613 - val_loss: 3.3629 - val_acc: 0.0382\n",
      "Epoch 34/70\n",
      "4473/4473 [==============================] - 49s 11ms/step - loss: 1.5602 - acc: 0.3803 - val_loss: 3.2692 - val_acc: 0.0422\n",
      "Epoch 35/70\n",
      "4473/4473 [==============================] - 52s 12ms/step - loss: 1.5327 - acc: 0.3937 - val_loss: 3.4693 - val_acc: 0.0422\n",
      "Epoch 36/70\n",
      "4473/4473 [==============================] - 47s 10ms/step - loss: 1.4795 - acc: 0.4239 - val_loss: 3.6305 - val_acc: 0.0281\n",
      "Epoch 37/70\n",
      "4473/4473 [==============================] - 50s 11ms/step - loss: 1.4465 - acc: 0.4310 - val_loss: 3.6801 - val_acc: 0.0261\n",
      "Epoch 38/70\n",
      "4473/4473 [==============================] - 47s 11ms/step - loss: 1.3886 - acc: 0.4639 - val_loss: 3.6403 - val_acc: 0.0341\n",
      "Epoch 39/70\n",
      "4473/4473 [==============================] - 51s 11ms/step - loss: 1.3402 - acc: 0.4901 - val_loss: 3.7223 - val_acc: 0.0422\n",
      "Epoch 40/70\n",
      "4473/4473 [==============================] - 48s 11ms/step - loss: 1.2980 - acc: 0.5068 - val_loss: 3.8611 - val_acc: 0.0382\n",
      "Epoch 41/70\n",
      "4473/4473 [==============================] - 52s 12ms/step - loss: 1.2314 - acc: 0.5368 - val_loss: 4.0417 - val_acc: 0.0402\n",
      "Epoch 42/70\n",
      "4473/4473 [==============================] - 50s 11ms/step - loss: 1.2151 - acc: 0.5381 - val_loss: 3.9991 - val_acc: 0.0382\n",
      "Epoch 43/70\n",
      "4473/4473 [==============================] - 50s 11ms/step - loss: 1.1640 - acc: 0.5652 - val_loss: 4.1405 - val_acc: 0.0261\n",
      "Epoch 44/70\n",
      "4473/4473 [==============================] - 49s 11ms/step - loss: 1.0871 - acc: 0.5947 - val_loss: 4.0089 - val_acc: 0.0582\n",
      "Epoch 45/70\n",
      "4473/4473 [==============================] - 49s 11ms/step - loss: 1.0487 - acc: 0.6193 - val_loss: 4.2707 - val_acc: 0.0442\n",
      "Epoch 46/70\n",
      "4473/4473 [==============================] - 51s 11ms/step - loss: 1.0027 - acc: 0.6360 - val_loss: 4.3168 - val_acc: 0.0643\n",
      "Epoch 47/70\n",
      "4473/4473 [==============================] - 49s 11ms/step - loss: 0.9364 - acc: 0.6633 - val_loss: 4.3486 - val_acc: 0.0482\n",
      "Epoch 48/70\n",
      "4473/4473 [==============================] - 49s 11ms/step - loss: 0.8790 - acc: 0.6790 - val_loss: 4.7122 - val_acc: 0.0261\n",
      "Epoch 49/70\n",
      "4473/4473 [==============================] - 49s 11ms/step - loss: 0.8648 - acc: 0.6892 - val_loss: 4.5312 - val_acc: 0.0582\n",
      "Epoch 50/70\n",
      "4473/4473 [==============================] - 49s 11ms/step - loss: 0.7963 - acc: 0.7156 - val_loss: 4.7261 - val_acc: 0.0382\n",
      "Epoch 51/70\n",
      "4473/4473 [==============================] - 52s 12ms/step - loss: 0.7923 - acc: 0.7170 - val_loss: 4.7044 - val_acc: 0.0622\n",
      "Epoch 52/70\n",
      "4473/4473 [==============================] - 49s 11ms/step - loss: 0.7341 - acc: 0.7351 - val_loss: 4.6755 - val_acc: 0.0622\n",
      "Epoch 53/70\n",
      "4473/4473 [==============================] - 49s 11ms/step - loss: 0.6941 - acc: 0.7534 - val_loss: 5.1472 - val_acc: 0.0542\n",
      "Epoch 54/70\n",
      "4473/4473 [==============================] - 49s 11ms/step - loss: 0.6859 - acc: 0.7586 - val_loss: 4.9767 - val_acc: 0.0542\n",
      "Epoch 55/70\n",
      "4473/4473 [==============================] - 49s 11ms/step - loss: 0.6217 - acc: 0.7798 - val_loss: 5.1205 - val_acc: 0.0602\n",
      "Epoch 56/70\n",
      "4473/4473 [==============================] - 51s 11ms/step - loss: 0.5569 - acc: 0.8028 - val_loss: 5.1994 - val_acc: 0.0783\n",
      "Epoch 57/70\n",
      "4473/4473 [==============================] - 48s 11ms/step - loss: 0.5381 - acc: 0.8158 - val_loss: 5.3117 - val_acc: 0.0562\n",
      "Epoch 58/70\n",
      "4473/4473 [==============================] - 51s 11ms/step - loss: 0.5282 - acc: 0.8124 - val_loss: 5.3064 - val_acc: 0.0703\n",
      "Epoch 59/70\n",
      "4473/4473 [==============================] - 51s 11ms/step - loss: 0.5600 - acc: 0.8039 - val_loss: 5.5710 - val_acc: 0.0522\n"
     ]
    },
    {
     "name": "stdout",
     "output_type": "stream",
     "text": [
      "Epoch 60/70\n",
      "4473/4473 [==============================] - 50s 11ms/step - loss: 0.4959 - acc: 0.8267 - val_loss: 5.4148 - val_acc: 0.0743\n",
      "Epoch 61/70\n",
      "4473/4473 [==============================] - 51s 11ms/step - loss: 0.5005 - acc: 0.8245 - val_loss: 5.7489 - val_acc: 0.0502\n",
      "Epoch 62/70\n",
      "4473/4473 [==============================] - 48s 11ms/step - loss: 0.4690 - acc: 0.8388 - val_loss: 5.7675 - val_acc: 0.0663\n",
      "Epoch 63/70\n",
      "4473/4473 [==============================] - 51s 11ms/step - loss: 0.4308 - acc: 0.8493 - val_loss: 5.9541 - val_acc: 0.0502\n",
      "Epoch 64/70\n",
      "4473/4473 [==============================] - 48s 11ms/step - loss: 0.3941 - acc: 0.8607 - val_loss: 6.0513 - val_acc: 0.0542\n",
      "Epoch 65/70\n",
      "4473/4473 [==============================] - 49s 11ms/step - loss: 0.3896 - acc: 0.8659 - val_loss: 5.9442 - val_acc: 0.0562\n",
      "Epoch 66/70\n",
      "4473/4473 [==============================] - 50s 11ms/step - loss: 0.4035 - acc: 0.8585 - val_loss: 6.0835 - val_acc: 0.0522\n",
      "Epoch 67/70\n",
      "4473/4473 [==============================] - 50s 11ms/step - loss: 0.3644 - acc: 0.8723 - val_loss: 6.3167 - val_acc: 0.0502\n",
      "Epoch 68/70\n",
      "4473/4473 [==============================] - 59s 13ms/step - loss: 0.3447 - acc: 0.8786 - val_loss: 6.2626 - val_acc: 0.0602\n",
      "Epoch 69/70\n",
      "4473/4473 [==============================] - 55s 12ms/step - loss: 0.3328 - acc: 0.8835 - val_loss: 6.3789 - val_acc: 0.0522\n",
      "Epoch 70/70\n",
      "4473/4473 [==============================] - 54s 12ms/step - loss: 0.3216 - acc: 0.8858 - val_loss: 6.6971 - val_acc: 0.0502\n"
     ]
    }
   ],
   "source": [
    "train = model.fit(train_data, y_train, validation_split=0.1, epochs=70, batch_size=32, shuffle=True, verbose=1)"
   ]
  },
  {
   "cell_type": "markdown",
   "metadata": {},
   "source": [
    "### Visualize the training and validation loss"
   ]
  },
  {
   "cell_type": "code",
   "execution_count": 170,
   "metadata": {},
   "outputs": [
    {
     "data": {
      "image/png": "[encoded data removed]",
      "text/plain": [
       "<Figure size 864x864 with 1 Axes>"
      ]
     },
     "metadata": {},
     "output_type": "display_data"
    }
   ],
   "source": [
    "import pandas as pd\n",
    "from matplotlib import pyplot as plt\n",
    "\n",
    "history = pd.DataFrame(train.history)\n",
    "plt.figure(figsize=(12,12));\n",
    "plt.plot(history[\"loss\"]);\n",
    "plt.plot(history[\"val_loss\"]);\n",
    "plt.title(\"Loss with pretrained word vectors\");\n",
    "plt.show();"
   ]
  },
  {
   "cell_type": "markdown",
   "metadata": {},
   "source": [
    "### Test your algorithm"
   ]
  },
  {
   "cell_type": "code",
   "execution_count": 171,
   "metadata": {},
   
   "source": [
    "# prediction\n",
    "predictions = model.predict(test_data)\n",
    "#print('First prediction:', b_test_labels[np.argmax(predictions, axis=1)])\n",
    "for row in predictions:\n",
    "    print(b_test_labels[np.argmax(row)])"
   ]
  },
  {
   "cell_type": "code",
   "execution_count": 172,
   "metadata": {},
   "outputs": [
    {
     "name": "stdout",
     "output_type": "stream",
     "text": [
      "2311/2311 [==============================] - 6s 3ms/step\n",
      "Test loss: 4.835760002268284\n",
      "Test accuracy: 0.1479878840328862\n"
     ]
    }
   ],
   "source": [
    "score = model.evaluate(test_data, y_test, verbose = 1, batch_size = 32)\n",
    "print('Test loss:', score[0])\n",
    "print('Test accuracy:', score[1])"
   ]
  },
  {
   "cell_type": "code",
   "execution_count": null,
   "metadata": {
    "collapsed": true
   },
   "outputs": [],
   "source": []
  }
 ],
 "metadata": {
  "kernelspec": {
   "display_name": "Python 3",
   "language": "python",
   "name": "python3"
  },
  "language_info": {
   "codemirror_mode": {
    "name": "ipython",
    "version": 3
   },
   "file_extension": ".py",
   "mimetype": "text/x-python",
   "name": "python",
   "nbconvert_exporter": "python",
   "pygments_lexer": "ipython3",
   "version": "3.6.4"
  }
 },
 "nbformat": 4,
 "nbformat_minor": 2
}
